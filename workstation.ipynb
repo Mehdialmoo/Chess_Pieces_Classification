{
 "cells": [
  {
   "cell_type": "code",
   "execution_count": null,
   "metadata": {},
   "outputs": [],
   "source": [
    "import torch\n",
    "from torchvision import transforms\n",
    "\n",
    "from vars.loading_data import ChessDB as DB\n",
    "from vars.model import ConvolutionalNetwork\n",
    "from vars.utilities import *\n",
    "import pytorch_lightning as pl\n",
    "from sklearn.metrics import classification_report\n"
   ]
  },
  {
   "cell_type": "code",
   "execution_count": null,
   "metadata": {},
   "outputs": [],
   "source": [
    "PATH = \"./Data/Chess/\"\n",
    "CSV_PATH =  \"./Data/\"\n",
    "BATCH = 32\n",
    "device = torch.device(\"cuda\")"
   ]
  },
  {
   "cell_type": "code",
   "execution_count": null,
   "metadata": {},
   "outputs": [],
   "source": [
    "transform=transforms.Compose([\n",
    "        transforms.RandomRotation(10),      # rotate +/- 10 degrees\n",
    "        transforms.RandomHorizontalFlip(),  # reverse 50% of images\n",
    "        transforms.Resize(224),             # resize shortest side to 224 pixels\n",
    "        transforms.CenterCrop(224),         # crop longest side to 224 pixels at center\n",
    "        transforms.ToTensor(),\n",
    "        transforms.Normalize([0.485, 0.456, 0.406],\n",
    "                             [0.229, 0.224, 0.225])\n",
    "])"
   ]
  },
  {
   "cell_type": "code",
   "execution_count": null,
   "metadata": {},
   "outputs": [],
   "source": [
    "# datloader\n",
    "data = DB( directory=PATH ,transform=transform, batch_size=32)\n",
    "print(data.labels)\n",
    "print(len(data))\n",
    "print(data.dir_list)"
   ]
  },
  {
   "cell_type": "code",
   "execution_count": null,
   "metadata": {},
   "outputs": [],
   "source": [
    "# util\n",
    "create_CSV(dir=data.dir, out_dir=CSV_PATH)\n",
    "plot_bar(data.dir,data.labels)20\n",
    "plot_img(dir_list=data.dir_list, labels= data.labels)\n",
    "# pre_process(dir_list=data.dir_list)\n"
   ]
  },
  {
   "cell_type": "code",
   "execution_count": null,
   "metadata": {},
   "outputs": [],
   "source": [
    "# dataloader\n",
    "data.db_split(train_ratio=0.6, valid_ratio=0.2, test_ratio=0.2)\n",
    "trainDB = data.train_dataloader()\n",
    "validDB = data.valid_dataloader()\n",
    "testDB = data.test_dataloader()"
   ]
  },
  {
   "cell_type": "code",
   "execution_count": null,
   "metadata": {},
   "outputs": [],
   "source": [
    "# model\n",
    "model = ConvolutionalNetwork(data.labels)\n",
    "trainer = pl.Trainer(max_epochs=50)\n",
    "trainer.fit(model, data)\n",
    "data.setup(stage='valid')\n",
    "valid_loader = data.valid_dataloader()\n",
    "trainer.test(dataloaders=valid_loader)\n",
    "test_loader = data.test_dataloader()\n",
    "trainer.test(dataloaders=test_loader)"
   ]
  },
  {
   "cell_type": "code",
   "execution_count": null,
   "metadata": {},
   "outputs": [],
   "source": [
    "model.eval()\n",
    "y_true=[]\n",
    "y_pred=[]\n",
    "with torch.no_grad():\n",
    "    for item in data.test_dataloader():\n",
    "        item_img, item_lbl = item[0].to(device), item[1].to(device)\n",
    "        pred = model(item_img).argmax(dim=1)\n",
    "        for i in range(len(pred)):\n",
    "            y_true.append(item_lbl[i].item())\n",
    "            y_pred.append(pred[i].item())\n",
    "\n",
    "print(classification_report(y_true=y_true,y_pred=y_pred,target_names=data.labels, digits=4))"
   ]
  }
 ],
 "metadata": {
  "kernelspec": {
   "display_name": "SE_ENV",
   "language": "python",
   "name": "python3"
  },
  "language_info": {
   "codemirror_mode": {
    "name": "ipython",
    "version": 3
   },
   "file_extension": ".py",
   "mimetype": "text/x-python",
   "name": "python",
   "nbconvert_exporter": "python",
   "pygments_lexer": "ipython3",
   "version": "3.11.7"
  },
  "orig_nbformat": 4
 },
 "nbformat": 4,
 "nbformat_minor": 2
}
